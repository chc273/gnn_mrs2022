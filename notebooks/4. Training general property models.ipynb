{
 "cells": [
  {
   "cell_type": "markdown",
   "id": "3f9d75bd",
   "metadata": {},
   "source": [
    "## M3GNet property models\n",
    "\n",
    "In this notebook, I will use the `matbench` datasets for training property models using M3GNet model framework.\n",
    "\n",
    "```\n",
    "Dunn, et al. npj Comput. Mater., 6(1), 1-10. 2020\n",
    "```"
   ]
  },
  {
   "cell_type": "code",
   "execution_count": 8,
   "id": "3ac650ff",
   "metadata": {},
   "outputs": [
    {
     "name": "stdout",
     "output_type": "stream",
     "text": [
      "2022-11-13 10:42:53 INFO     Initialized benchmark 'matbench_v0.1' with 1 tasks: \n",
      "['matbench_dielectric']\n"
     ]
    }
   ],
   "source": [
    "from matbench.bench import MatbenchBenchmark\n",
    "\n",
    "\n",
    "dataset = ['matbench_dielectric']\n",
    "\n",
    "mb = MatbenchBenchmark(subset=dataset)"
   ]
  },
  {
   "cell_type": "code",
   "execution_count": 15,
   "id": "7e93adce",
   "metadata": {},
   "outputs": [
    {
     "name": "stdout",
     "output_type": "stream",
     "text": [
      "Training matbench_dielectric\n",
      "2022-11-13 10:49:23 INFO     Dataset matbench_dielectric already loaded; not reloading dataset.\n"
     ]
    },
    {
     "name": "stderr",
     "output_type": "stream",
     "text": [
      "INFO:matbench.task:Dataset matbench_dielectric already loaded; not reloading dataset.\n"
     ]
    },
    {
     "name": "stdout",
     "output_type": "stream",
     "text": [
      "Fold 0\n",
      "Epoch 1/10\n",
      "      2/Unknown - 3s 2s/step - loss: 5.8985"
     ]
    },
    {
     "name": "stderr",
     "output_type": "stream",
     "text": [
      "/Users/chichen/miniconda3/lib/python3.9/site-packages/tensorflow/python/framework/indexed_slices.py:448: UserWarning: Converting sparse IndexedSlices(IndexedSlices(indices=Tensor(\"gradient_tape/m3g_net_3/three_d_interaction_3/Reshape_2:0\", shape=(None,), dtype=int32), values=Tensor(\"gradient_tape/m3g_net_3/three_d_interaction_3/Reshape_1:0\", shape=(None, 9), dtype=float32), dense_shape=Tensor(\"gradient_tape/m3g_net_3/three_d_interaction_3/Cast:0\", shape=(2,), dtype=int32))) to a dense Tensor of unknown shape. This may consume a large amount of memory.\n",
      "  warnings.warn(\n",
      "/Users/chichen/miniconda3/lib/python3.9/site-packages/tensorflow/python/framework/indexed_slices.py:448: UserWarning: Converting sparse IndexedSlices(IndexedSlices(indices=Tensor(\"gradient_tape/m3g_net_3/graph_network_layer_3/gated_atom_update_3/Reshape_2:0\", shape=(None,), dtype=int32), values=Tensor(\"gradient_tape/m3g_net_3/graph_network_layer_3/gated_atom_update_3/Reshape_1:0\", shape=(None, 64), dtype=float32), dense_shape=Tensor(\"gradient_tape/m3g_net_3/graph_network_layer_3/gated_atom_update_3/Cast:0\", shape=(2,), dtype=int32))) to a dense Tensor of unknown shape. This may consume a large amount of memory.\n",
      "  warnings.warn(\n",
      "/Users/chichen/miniconda3/lib/python3.9/site-packages/tensorflow/python/framework/indexed_slices.py:448: UserWarning: Converting sparse IndexedSlices(IndexedSlices(indices=Tensor(\"gradient_tape/m3g_net_3/graph_network_layer_3/gated_atom_update_3/Reshape_4:0\", shape=(None,), dtype=int32), values=Tensor(\"gradient_tape/m3g_net_3/graph_network_layer_3/gated_atom_update_3/Reshape_3:0\", shape=(None, 64), dtype=float32), dense_shape=Tensor(\"gradient_tape/m3g_net_3/graph_network_layer_3/gated_atom_update_3/Cast_1:0\", shape=(2,), dtype=int32))) to a dense Tensor of unknown shape. This may consume a large amount of memory.\n",
      "  warnings.warn(\n",
      "/Users/chichen/miniconda3/lib/python3.9/site-packages/tensorflow/python/framework/indexed_slices.py:448: UserWarning: Converting sparse IndexedSlices(IndexedSlices(indices=Tensor(\"gradient_tape/m3g_net_3/graph_network_layer_3/concat_atoms_3/Reshape_2:0\", shape=(None,), dtype=int32), values=Tensor(\"gradient_tape/m3g_net_3/graph_network_layer_3/concat_atoms_3/Reshape_1:0\", shape=(None, 64), dtype=float32), dense_shape=Tensor(\"gradient_tape/m3g_net_3/graph_network_layer_3/concat_atoms_3/Cast:0\", shape=(2,), dtype=int32))) to a dense Tensor of unknown shape. This may consume a large amount of memory.\n",
      "  warnings.warn(\n"
     ]
    },
    {
     "name": "stdout",
     "output_type": "stream",
     "text": [
      "    856/Unknown - 41s 46ms/step - loss: 3.3114"
     ]
    },
    {
     "name": "stderr",
     "output_type": "stream",
     "text": [
      "/Users/chichen/miniconda3/lib/python3.9/site-packages/tensorflow/python/framework/indexed_slices.py:448: UserWarning: Converting sparse IndexedSlices(IndexedSlices(indices=Tensor(\"gradient_tape/m3g_net_3/pipe_47/multi_field_readout_3/weighted_readout_3/Reshape_1:0\", shape=(None,), dtype=int32), values=Tensor(\"gradient_tape/m3g_net_3/pipe_47/multi_field_readout_3/weighted_readout_3/Reshape:0\", shape=(None,), dtype=float32), dense_shape=Tensor(\"gradient_tape/m3g_net_3/pipe_47/multi_field_readout_3/weighted_readout_3/Cast:0\", shape=(1,), dtype=int32))) to a dense Tensor of unknown shape. This may consume a large amount of memory.\n",
      "  warnings.warn(\n"
     ]
    },
    {
     "name": "stdout",
     "output_type": "stream",
     "text": [
      "858/858 [==============================] - 45s 51ms/step - loss: 3.3176 - val_mae: 0.3442\n",
      "Epoch 2/10\n",
      "858/858 [==============================] - 38s 45ms/step - loss: 3.5443 - val_mae: 0.3534\n",
      "Epoch 3/10\n",
      "858/858 [==============================] - 38s 44ms/step - loss: 3.8353 - val_mae: 0.3620\n",
      "Epoch 4/10\n",
      "858/858 [==============================] - 37s 43ms/step - loss: 5.7758 - val_mae: 0.3451\n",
      "Epoch 5/10\n",
      "858/858 [==============================] - 38s 45ms/step - loss: 5.0928 - val_mae: 0.3811\n",
      "Epoch 6/10\n",
      "858/858 [==============================] - 38s 45ms/step - loss: 4.7941 - val_mae: 0.3231\n",
      "Epoch 7/10\n",
      "858/858 [==============================] - 40s 46ms/step - loss: 3.5762 - val_mae: 0.3138\n",
      "Epoch 8/10\n",
      "858/858 [==============================] - 39s 46ms/step - loss: 6.1127 - val_mae: 0.3170\n",
      "Epoch 9/10\n",
      "858/858 [==============================] - 39s 45ms/step - loss: 5.7514 - val_mae: 0.3605\n",
      "Epoch 10/10\n",
      "858/858 [==============================] - 39s 45ms/step - loss: 5.0659 - val_mae: 0.3244\n"
     ]
    }
   ],
   "source": [
    "import tensorflow as tf\n",
    "from sklearn.model_selection import train_test_split\n",
    "\n",
    "from m3gnet.models import M3GNet\n",
    "from m3gnet.trainers import Trainer\n",
    "\n",
    "for task in mb.tasks:\n",
    "    print(f\"Training {task.dataset_name}\")\n",
    "    task.load()\n",
    "    for fold in task.folds:\n",
    "        print(f\"Fold {fold}\")\n",
    "        # load train and validation data\n",
    "        train_val_inputs, train_val_outputs = task.get_train_and_val_data(fold)\n",
    "        \n",
    "        # split train and val\n",
    "        train_inputs, val_inputs, train_outputs, val_outputs = train_test_split(\n",
    "            train_val_inputs, train_val_outputs, test_size=0.1\n",
    "        )\n",
    "        \n",
    "        # load test \n",
    "        test_inputs, test_outputs = task.get_test_data(fold, include_target=True)\n",
    "        \n",
    "        # initialize a model, note that refractive index (dielectric property)\n",
    "        # here is an intensive property\n",
    "        model = M3GNet(n_blocks=1, is_intensive=True)\n",
    "        \n",
    "        # Trainer\n",
    "        trainer = Trainer(model=model, optimizer=tf.keras.optimizers.Adam(1e-3))\n",
    "        \n",
    "        # Train\n",
    "        trainer.train(train_inputs, train_outputs,\n",
    "                     validation_graphs_or_structures=val_inputs,\n",
    "                     validation_targets=val_outputs,\n",
    "                     epochs=10,\n",
    "                     batch_size=4)\n",
    "        \n",
    "        # Test on test data\n",
    "        test_predict_outputs = model.predict_structures(test_inputs, batch_size=16)\n",
    "        \n",
    "        # only train on fold as an example\n",
    "        break"
   ]
  },
  {
   "cell_type": "code",
   "execution_count": 6,
   "id": "639171a1",
   "metadata": {},
   "outputs": [],
   "source": [
    "MatbenchBenchmark."
   ]
  },
  {
   "cell_type": "code",
   "execution_count": null,
   "id": "17c29178",
   "metadata": {},
   "outputs": [],
   "source": []
  }
 ],
 "metadata": {
  "kernelspec": {
   "display_name": "Python 3 (ipykernel)",
   "language": "python",
   "name": "python3"
  },
  "language_info": {
   "codemirror_mode": {
    "name": "ipython",
    "version": 3
   },
   "file_extension": ".py",
   "mimetype": "text/x-python",
   "name": "python",
   "nbconvert_exporter": "python",
   "pygments_lexer": "ipython3",
   "version": "3.9.5"
  }
 },
 "nbformat": 4,
 "nbformat_minor": 5
}
