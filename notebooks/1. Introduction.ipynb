{
 "cells": [
  {
   "cell_type": "markdown",
   "id": "b82c1ae3",
   "metadata": {},
   "source": [
    "## Graph Neural Networks"
   ]
  },
  {
   "cell_type": "markdown",
   "id": "7eb0aac8",
   "metadata": {},
   "source": [
    "### Graph data structure\n",
    "\n",
    "**Node, edge and global**\n",
    "\n",
    "![image](./images/graph.png)\n",
    "\n",
    "Figure from https://distill.pub/2021/gnn-intro/"
   ]
  },
  {
   "cell_type": "markdown",
   "id": "dddab462",
   "metadata": {},
   "source": [
    "**Information stored in a graph**"
   ]
  },
  {
   "cell_type": "markdown",
   "id": "dc1a1d97",
   "metadata": {},
   "source": [
    "![image](images/graph_attributes.png)\n",
    "\n",
    "Figure from https://distill.pub/2021/gnn-intro/"
   ]
  },
  {
   "cell_type": "markdown",
   "id": "01f32674",
   "metadata": {},
   "source": [
    "**The edge information**\n",
    "\n",
    "Node and global attributes are straightforward. They are represented usually as numeric values. Edge information requires not only edge attributes, but also the node indices that form the edge.\n",
    "\n",
    "For example, we say one edge is formed by node 1 and 2 with distance between them as 0.5, the edge information can be `(1,2)`(the node indices that form the edge) and the edge attribute `0.5`.\n"
   ]
  },
  {
   "attachments": {},
   "cell_type": "markdown",
   "id": "d900ddb2",
   "metadata": {},
   "source": [
    "**Graph data structure in science**\n",
    "\n",
    "- Node -> Atom\n",
    "- Edge -> Bond\n",
    "- Global, information on the whole structural level or structure-independent state information (e.g., pressure, temperature, etc.)\n"
   ]
  },
  {
   "cell_type": "markdown",
   "id": "2b1cee71",
   "metadata": {},
   "source": [
    "### What are the \"tasks\" for a model based on graph?"
   ]
  },
  {
   "cell_type": "markdown",
   "id": "cd7d9d28",
   "metadata": {},
   "source": [
    "**Node level task**\n",
    "\n",
    "Example: Is the atom in a structure an active site for catalysis?\n",
    "\n",
    "\n",
    "**Edge level task**\n",
    "\n",
    "Example: What is the force between two atoms?\n",
    "\n",
    "**Global level task**\n",
    "\n",
    "Most common in chemistry and materials science.\n",
    "\n",
    "Example: What is the total energy? "
   ]
  }
 ],
 "metadata": {
  "kernelspec": {
   "display_name": "Python 3 (ipykernel)",
   "language": "python",
   "name": "python3"
  },
  "language_info": {
   "codemirror_mode": {
    "name": "ipython",
    "version": 3
   },
   "file_extension": ".py",
   "mimetype": "text/x-python",
   "name": "python",
   "nbconvert_exporter": "python",
   "pygments_lexer": "ipython3",
   "version": "3.10.6"
  }
 },
 "nbformat": 4,
 "nbformat_minor": 5
}
