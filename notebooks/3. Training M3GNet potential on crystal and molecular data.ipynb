{
 "cells": [
  {
   "cell_type": "markdown",
   "id": "9fa7f2cc",
   "metadata": {},
   "source": [
    "## Training M3GNet "
   ]
  },
  {
   "cell_type": "markdown",
   "id": "814139d9",
   "metadata": {},
   "source": [
    "Here we show examples of how we can train ML potentials using M3GNet on crystalline and molecular data."
   ]
  },
  {
   "cell_type": "markdown",
   "id": "fed576d0",
   "metadata": {},
   "source": [
    "### Training M3GNet potential for crystal\n",
    "\n",
    "Here we will use Si data from \n",
    "\n",
    "```\n",
    "Zuo et al. J. Phys. Chem. A A 124 (4), 731-745, 2020\n",
    "```\n"
   ]
  },
  {
   "cell_type": "code",
   "execution_count": 5,
   "id": "d111bc56",
   "metadata": {},
   "outputs": [],
   "source": [
    "import warnings\n",
    "warnings.filterwarnings(\"ignore\")\n",
    "\n",
    "import numpy as np\n",
    "import json\n",
    "from pymatgen.core import Structure, Molecule\n",
    "from sklearn.model_selection import train_test_split\n",
    "\n"
   ]
  },
  {
   "cell_type": "code",
   "execution_count": 2,
   "id": "72f40161",
   "metadata": {},
   "outputs": [],
   "source": [
    "def load_data(json_name):\n",
    "    with open(json_name) as f:\n",
    "        data = json.load(f)\n",
    "    if \"molecules\" in data:\n",
    "        structures = [Molecule.from_dict(i) for i in data['molecules']]\n",
    "    else:\n",
    "        structures = [Structure.from_dict(i) for i in data['structures']]\n",
    "    energies = data['energies']\n",
    "    forces = [np.array(i) for i in data['forces']]\n",
    "    return structures, energies, forces"
   ]
  },
  {
   "cell_type": "code",
   "execution_count": 7,
   "id": "a8ed85ef",
   "metadata": {},
   "outputs": [],
   "source": [
    "train_structures, val_structures, train_energies, val_energies, \\\n",
    "    train_forces, val_forces = \\\n",
    "        train_test_split(*load_data(\"Si_train.json\"), test_size=0.1)\n",
    "\n",
    "test_structures, test_energies, test_forces = load_data(\"Si_test.json\")"
   ]
  },
  {
   "cell_type": "markdown",
   "id": "fa2684d9",
   "metadata": {},
   "source": [
    "**M3GNet crystal ML potential model training**"
   ]
  },
  {
   "cell_type": "code",
   "execution_count": 3,
   "id": "c23b82d1",
   "metadata": {},
   "outputs": [],
   "source": [
    "from m3gnet.models import M3GNet, Potential\n",
    "from m3gnet.trainers import PotentialTrainer\n",
    "import tensorflow as tf\n",
    "\n",
    "potential = Potential(M3GNet(n_blocks=1, is_intensive=False))\n",
    "\n",
    "trainer = PotentialTrainer(potential=potential,\n",
    "                          optimizer=tf.keras.optimizers.Adam(1e-3))"
   ]
  },
  {
   "cell_type": "code",
   "execution_count": 10,
   "id": "6c735c6a",
   "metadata": {},
   "outputs": [
    {
     "name": "stdout",
     "output_type": "stream",
     "text": [
      "Epoch 1/10\n",
      "      2/Unknown - 19s 4s/step - loss: 0.9037 - MAE(E): 0.2694 - MAE(F): 0.5859 - MAE(S): 0.0000e+00 WARNING:tensorflow:5 out of the last 5 calls to <function PotentialTrainer.train.<locals>.train_one_step at 0x7fb1c5a3a0d0> triggered tf.function retracing. Tracing is expensive and the excessive number of tracings could be due to (1) creating @tf.function repeatedly in a loop, (2) passing tensors with different shapes, (3) passing Python objects instead of tensors. For (1), please define your @tf.function outside of the loop. For (2), @tf.function has experimental_relax_shapes=True option that relaxes argument shapes that can avoid unnecessary retracing. For (3), please refer to https://www.tensorflow.org/guide/function#controlling_retracing and https://www.tensorflow.org/api_docs/python/tf/function for  more details.\n"
     ]
    },
    {
     "name": "stderr",
     "output_type": "stream",
     "text": [
      "WARNING:tensorflow:5 out of the last 5 calls to <function PotentialTrainer.train.<locals>.train_one_step at 0x7fb1c5a3a0d0> triggered tf.function retracing. Tracing is expensive and the excessive number of tracings could be due to (1) creating @tf.function repeatedly in a loop, (2) passing tensors with different shapes, (3) passing Python objects instead of tensors. For (1), please define your @tf.function outside of the loop. For (2), @tf.function has experimental_relax_shapes=True option that relaxes argument shapes that can avoid unnecessary retracing. For (3), please refer to https://www.tensorflow.org/guide/function#controlling_retracing and https://www.tensorflow.org/api_docs/python/tf/function for  more details.\n"
     ]
    },
    {
     "name": "stdout",
     "output_type": "stream",
     "text": [
      "      3/Unknown - 23s 4s/step - loss: 0.8206 - MAE(E): 0.2572 - MAE(F): 0.5416 - MAE(S): 0.0000e+00WARNING:tensorflow:6 out of the last 6 calls to <function PotentialTrainer.train.<locals>.train_one_step at 0x7fb1c5a3a0d0> triggered tf.function retracing. Tracing is expensive and the excessive number of tracings could be due to (1) creating @tf.function repeatedly in a loop, (2) passing tensors with different shapes, (3) passing Python objects instead of tensors. For (1), please define your @tf.function outside of the loop. For (2), @tf.function has experimental_relax_shapes=True option that relaxes argument shapes that can avoid unnecessary retracing. For (3), please refer to https://www.tensorflow.org/guide/function#controlling_retracing and https://www.tensorflow.org/api_docs/python/tf/function for  more details.\n"
     ]
    },
    {
     "name": "stderr",
     "output_type": "stream",
     "text": [
      "WARNING:tensorflow:6 out of the last 6 calls to <function PotentialTrainer.train.<locals>.train_one_step at 0x7fb1c5a3a0d0> triggered tf.function retracing. Tracing is expensive and the excessive number of tracings could be due to (1) creating @tf.function repeatedly in a loop, (2) passing tensors with different shapes, (3) passing Python objects instead of tensors. For (1), please define your @tf.function outside of the loop. For (2), @tf.function has experimental_relax_shapes=True option that relaxes argument shapes that can avoid unnecessary retracing. For (3), please refer to https://www.tensorflow.org/guide/function#controlling_retracing and https://www.tensorflow.org/api_docs/python/tf/function for  more details.\n"
     ]
    },
    {
     "name": "stdout",
     "output_type": "stream",
     "text": [
      "48/48 [==============================] - 42s 577ms/step - loss: 0.8229 - MAE(E): 0.2656 - MAE(F): 0.5342 - MAE(S): 0.0000e+00 - val_MAE: 0.8244 - val_MAE(E): 0.2615 - val_MAE(F): 0.5629 - val_MAE(S): 0.0000e+00\n",
      "Epoch 2/10\n",
      "48/48 [==============================] - 13s 261ms/step - loss: 0.7282 - MAE(E): 0.2813 - MAE(F): 0.4915 - MAE(S): 0.0000e+00 - val_MAE: 0.4603 - val_MAE(E): 0.1762 - val_MAE(F): 0.2841 - val_MAE(S): 0.0000e+00\n",
      "Epoch 3/10\n",
      "48/48 [==============================] - 13s 260ms/step - loss: 0.1937 - MAE(E): 0.1652 - MAE(F): 0.2595 - MAE(S): 0.0000e+00 - val_MAE: 0.3714 - val_MAE(E): 0.1393 - val_MAE(F): 0.2321 - val_MAE(S): 0.0000e+00\n",
      "Epoch 4/10\n",
      "48/48 [==============================] - 13s 263ms/step - loss: 0.1445 - MAE(E): 0.1443 - MAE(F): 0.2240 - MAE(S): 0.0000e+00 - val_MAE: 0.3419 - val_MAE(E): 0.1250 - val_MAE(F): 0.2169 - val_MAE(S): 0.0000e+00\n",
      "Epoch 5/10\n",
      "48/48 [==============================] - 13s 262ms/step - loss: 0.1307 - MAE(E): 0.1291 - MAE(F): 0.2167 - MAE(S): 0.0000e+00 - val_MAE: 0.3163 - val_MAE(E): 0.1214 - val_MAE(F): 0.1949 - val_MAE(S): 0.0000e+00\n",
      "Epoch 6/10\n",
      "48/48 [==============================] - 12s 260ms/step - loss: 0.1113 - MAE(E): 0.1086 - MAE(F): 0.2033 - MAE(S): 0.0000e+00 - val_MAE: 0.2633 - val_MAE(E): 0.0771 - val_MAE(F): 0.1862 - val_MAE(S): 0.0000e+00\n",
      "Epoch 7/10\n",
      "48/48 [==============================] - 12s 259ms/step - loss: 0.0912 - MAE(E): 0.0788 - MAE(F): 0.1925 - MAE(S): 0.0000e+00 - val_MAE: 0.2961 - val_MAE(E): 0.1005 - val_MAE(F): 0.1955 - val_MAE(S): 0.0000e+00\n",
      "Epoch 8/10\n",
      "48/48 [==============================] - 12s 260ms/step - loss: 0.0913 - MAE(E): 0.0782 - MAE(F): 0.1891 - MAE(S): 0.0000e+00 - val_MAE: 0.2541 - val_MAE(E): 0.0662 - val_MAE(F): 0.1879 - val_MAE(S): 0.0000e+00\n",
      "Epoch 9/10\n",
      "48/48 [==============================] - 13s 265ms/step - loss: 0.0925 - MAE(E): 0.0837 - MAE(F): 0.1888 - MAE(S): 0.0000e+00 - val_MAE: 0.2515 - val_MAE(E): 0.0711 - val_MAE(F): 0.1804 - val_MAE(S): 0.0000e+00\n",
      "Epoch 10/10\n",
      "48/48 [==============================] - 14s 285ms/step - loss: 0.0827 - MAE(E): 0.0686 - MAE(F): 0.1868 - MAE(S): 0.0000e+00 - val_MAE: 0.2552 - val_MAE(E): 0.0747 - val_MAE(F): 0.1805 - val_MAE(S): 0.0000e+00\n"
     ]
    }
   ],
   "source": [
    "trainer.train(graphs_or_structures=train_structures,\n",
    "             energies=train_energies,\n",
    "             forces=train_forces,\n",
    "             validation_graphs_or_structures=val_structures,\n",
    "             val_energies=val_energies,\n",
    "             val_forces=val_forces,\n",
    "             batch_size=4,\n",
    "             force_loss_ratio=1.0,\n",
    "             epochs=10,\n",
    "             fit_per_element_offset=True)"
   ]
  },
  {
   "cell_type": "markdown",
   "id": "7f4344b7",
   "metadata": {},
   "source": [
    "**Visualize test results**"
   ]
  },
  {
   "cell_type": "code",
   "execution_count": 22,
   "id": "f82ff707",
   "metadata": {},
   "outputs": [],
   "source": [
    "test_energies_pred = []\n",
    "test_forces_pred = []\n",
    "n_atoms = []\n",
    "for s in test_structures:\n",
    "    e, f = potential.get_ef(s)\n",
    "    test_energies_pred.append(e.numpy().ravel().item())\n",
    "    test_forces_pred.append(f.numpy())\n",
    "    n_atoms.append(len(s))\n",
    "    \n",
    "test_energy_per_atom_pred = np.array(test_energies_pred) / np.array(n_atoms)\n",
    "test_energy_per_atom = np.array(test_energies) / np.array(n_atoms)\n",
    "\n",
    "test_forces = np.concatenate(test_forces, axis=0)\n",
    "test_forces_pred = np.concatenate(test_forces_pred, axis=0)"
   ]
  },
  {
   "cell_type": "code",
   "execution_count": 13,
   "id": "05f43b8b",
   "metadata": {},
   "outputs": [],
   "source": [
    "import matplotlib.pyplot as plt\n",
    "%matplotlib inline"
   ]
  },
  {
   "cell_type": "code",
   "execution_count": 32,
   "id": "ced51ca5",
   "metadata": {},
   "outputs": [
    {
     "data": {
      "text/plain": [
       "Text(0, 0.5, 'Model energy (eV/atom)')"
      ]
     },
     "execution_count": 32,
     "metadata": {},
     "output_type": "execute_result"
    },
    {
     "data": {
      "image/png": "[encoded data removed]",
      "text/plain": [
       "<Figure size 432x288 with 1 Axes>"
      ]
     },
     "metadata": {
      "needs_background": "light"
     },
     "output_type": "display_data"
    }
   ],
   "source": [
    "def mae(x, y):\n",
    "    return np.mean(np.abs(np.array(x).ravel() - np.array(y).ravel()))\n",
    "plt.plot(test_energy_per_atom, test_energy_per_atom_pred, 'o')\n",
    "\n",
    "plt.title(f\"MAE {mae(test_energy_per_atom, test_energy_per_atom_pred):.3f} eV/atom\")\n",
    "plt.xlabel(\"DFT energy (eV/atom)\")\n",
    "plt.ylabel(\"Model energy (eV/atom)\")"
   ]
  },
  {
   "cell_type": "code",
   "execution_count": 30,
   "id": "be75de45",
   "metadata": {},
   "outputs": [
    {
     "data": {
      "text/plain": [
       "Text(0.5, 1.0, 'Force MAE 0.189 eV/$\\\\AA$')"
      ]
     },
     "execution_count": 30,
     "metadata": {},
     "output_type": "execute_result"
    },
    {
     "data": {
      "image/png": "[encoded data removed]",
      "text/plain": [
       "<Figure size 432x288 with 1 Axes>"
      ]
     },
     "metadata": {
      "needs_background": "light"
     },
     "output_type": "display_data"
    }
   ],
   "source": [
    "plt.plot(test_forces.ravel(), test_forces_pred.ravel(), 'o')\n",
    "plt.xlabel(\"DFT force (eV/$\\AA$)\")\n",
    "plt.ylabel(\"Model force (eV/$\\AA$)\")\n",
    "plt.title(f\"Force MAE {mae(test_forces, test_forces_pred):.3f} eV/$\\AA$\")"
   ]
  },
  {
   "cell_type": "markdown",
   "id": "a742ab55",
   "metadata": {},
   "source": [
    "Using rough parameter set and small number of training steps, the M3GNet potential model can already achieve reasonable results.\n",
    "\n",
    "In practice, to get better results, more EPOCHS are generally needed. One may also need to increase number of units and number of convolutional blocks."
   ]
  },
  {
   "cell_type": "code",
   "execution_count": null,
   "id": "0d5acead",
   "metadata": {},
   "outputs": [],
   "source": []
  },
  {
   "cell_type": "markdown",
   "id": "34dafdf1",
   "metadata": {},
   "source": [
    "### M3GNet molecular ML potential training\n",
    "\n",
    "Here we will use the ethanol data set from MD17 as an example."
   ]
  },
  {
   "cell_type": "code",
   "execution_count": 10,
   "id": "a1981db2",
   "metadata": {},
   "outputs": [],
   "source": [
    "KCALMOL_EV = 23.06035\n",
    "molecules, energies, forces = load_data(\"ethanol_MD17.json\")\n",
    "\n",
    "n_total = len(molecules)\n",
    "indices = np.array(range(n_total))\n",
    "np.random.shuffle(indices)\n",
    "\n",
    "\n",
    "# We will use 1000 data points as train and validation\n",
    "train_indices = indices[:950]\n",
    "val_indices = indices[950:1000]\n",
    "\n",
    "# The rest will be used as test set\n",
    "\n",
    "test_indices = indices[1000:]\n",
    "\n",
    "def get_subset(inds):\n",
    "    return [molecules[i] for i in inds], np.array(energies)[inds] / KCALMOL_EV, [forces[i]/KCALMOL_EV for i in inds]\n",
    "\n",
    "train_mols, train_energies, train_forces = get_subset(train_indices)\n",
    "val_mols, val_energies, val_forces = get_subset(val_indices)\n",
    "test_mols, test_energies, test_forces = get_subset(test_indices)\n"
   ]
  },
  {
   "cell_type": "markdown",
   "id": "21465c9d",
   "metadata": {},
   "source": [
    "Model training will be identical to the previous example using crystals"
   ]
  },
  {
   "cell_type": "code",
   "execution_count": 11,
   "id": "db7cb9b3",
   "metadata": {},
   "outputs": [],
   "source": [
    "potential = Potential(M3GNet(n_blocks=1, is_intensive=False))\n",
    "\n",
    "trainer = PotentialTrainer(potential=potential,\n",
    "                          optimizer=tf.keras.optimizers.Adam(1e-3))"
   ]
  },
  {
   "cell_type": "code",
   "execution_count": 12,
   "id": "581feea0",
   "metadata": {},
   "outputs": [
    {
     "name": "stdout",
     "output_type": "stream",
     "text": [
      "Epoch 1/10\n",
      "238/238 [==============================] - 57s 193ms/step - loss: 1.2171 - MAE(E): 0.0211 - MAE(F): 0.7982 - MAE(S): 0.0000e+00 - val_MAE: 0.5207 - val_MAE(E): 0.0224 - val_MAE(F): 0.4983 - val_MAE(S): 0.0000e+00\n",
      "Epoch 2/10\n",
      "238/238 [==============================] - 6s 27ms/step - loss: 0.4629 - MAE(E): 0.0189 - MAE(F): 0.4772 - MAE(S): 0.0000e+00 - val_MAE: 0.3488 - val_MAE(E): 0.0180 - val_MAE(F): 0.3308 - val_MAE(S): 0.0000e+00\n",
      "Epoch 3/10\n",
      "238/238 [==============================] - 6s 26ms/step - loss: 0.1671 - MAE(E): 0.0236 - MAE(F): 0.3054 - MAE(S): 0.0000e+00 - val_MAE: 0.2998 - val_MAE(E): 0.0282 - val_MAE(F): 0.2716 - val_MAE(S): 0.0000e+00\n",
      "Epoch 4/10\n",
      "238/238 [==============================] - 6s 26ms/step - loss: 0.1256 - MAE(E): 0.0220 - MAE(F): 0.2604 - MAE(S): 0.0000e+00 - val_MAE: 0.2522 - val_MAE(E): 0.0160 - val_MAE(F): 0.2362 - val_MAE(S): 0.0000e+00\n",
      "Epoch 5/10\n",
      "238/238 [==============================] - 6s 26ms/step - loss: 0.1037 - MAE(E): 0.0271 - MAE(F): 0.2377 - MAE(S): 0.0000e+00 - val_MAE: 0.2317 - val_MAE(E): 0.0162 - val_MAE(F): 0.2155 - val_MAE(S): 0.0000e+00\n",
      "Epoch 6/10\n",
      "238/238 [==============================] - 6s 26ms/step - loss: 0.0883 - MAE(E): 0.0326 - MAE(F): 0.2176 - MAE(S): 0.0000e+00 - val_MAE: 0.2107 - val_MAE(E): 0.0183 - val_MAE(F): 0.1924 - val_MAE(S): 0.0000e+00\n",
      "Epoch 7/10\n",
      "238/238 [==============================] - 6s 26ms/step - loss: 0.0655 - MAE(E): 0.0267 - MAE(F): 0.1880 - MAE(S): 0.0000e+00 - val_MAE: 0.1835 - val_MAE(E): 0.0137 - val_MAE(F): 0.1699 - val_MAE(S): 0.0000e+00\n",
      "Epoch 8/10\n",
      "238/238 [==============================] - 6s 26ms/step - loss: 0.0513 - MAE(E): 0.0189 - MAE(F): 0.1653 - MAE(S): 0.0000e+00 - val_MAE: 0.1978 - val_MAE(E): 0.0173 - val_MAE(F): 0.1805 - val_MAE(S): 0.0000e+00\n",
      "Epoch 9/10\n",
      "238/238 [==============================] - 6s 26ms/step - loss: 0.0439 - MAE(E): 0.0212 - MAE(F): 0.1549 - MAE(S): 0.0000e+00 - val_MAE: 0.1662 - val_MAE(E): 0.0266 - val_MAE(F): 0.1396 - val_MAE(S): 0.0000e+00\n",
      "Epoch 10/10\n",
      "238/238 [==============================] - 6s 26ms/step - loss: 0.0363 - MAE(E): 0.0197 - MAE(F): 0.1408 - MAE(S): 0.0000e+00 - val_MAE: 0.1558 - val_MAE(E): 0.0237 - val_MAE(F): 0.1321 - val_MAE(S): 0.0000e+00\n"
     ]
    }
   ],
   "source": [
    "trainer.train(graphs_or_structures=train_mols,\n",
    "             energies=train_energies,\n",
    "             forces=train_forces,\n",
    "             validation_graphs_or_structures=val_mols,\n",
    "             val_energies=val_energies,\n",
    "             val_forces=val_forces,\n",
    "             batch_size=4,\n",
    "             force_loss_ratio=1.0,\n",
    "             epochs=10,\n",
    "             fit_per_element_offset=True)"
   ]
  },
  {
   "cell_type": "markdown",
   "id": "0744e082",
   "metadata": {},
   "source": [
    "Using almost exact training steps, we can train a molecular potential."
   ]
  },
  {
   "cell_type": "code",
   "execution_count": null,
   "id": "deb6cafb",
   "metadata": {},
   "outputs": [],
   "source": []
  }
 ],
 "metadata": {
  "kernelspec": {
   "display_name": "Python 3 (ipykernel)",
   "language": "python",
   "name": "python3"
  },
  "language_info": {
   "codemirror_mode": {
    "name": "ipython",
    "version": 3
   },
   "file_extension": ".py",
   "mimetype": "text/x-python",
   "name": "python",
   "nbconvert_exporter": "python",
   "pygments_lexer": "ipython3",
   "version": "3.9.5"
  }
 },
 "nbformat": 4,
 "nbformat_minor": 5
}
