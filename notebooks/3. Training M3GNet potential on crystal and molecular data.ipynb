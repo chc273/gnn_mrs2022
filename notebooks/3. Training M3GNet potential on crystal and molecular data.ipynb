{
 "cells": [
  {
   "cell_type": "markdown",
   "id": "9fa7f2cc",
   "metadata": {},
   "source": [
    "## Training M3GNet "
   ]
  },
  {
   "cell_type": "markdown",
   "id": "814139d9",
   "metadata": {},
   "source": [
    "Here we show examples of how we can train ML potentials using M3GNet on crystalline and molecular data."
   ]
  },
  {
   "cell_type": "markdown",
   "id": "fed576d0",
   "metadata": {},
   "source": [
    "**Crystalline data**\n",
    "\n",
    "Here we use a subsample of the MPF 2021.2.8 data from the M3GNet publication\n"
   ]
  },
  {
   "cell_type": "code",
   "execution_count": 1,
   "id": "d111bc56",
   "metadata": {},
   "outputs": [],
   "source": [
    "import warnings\n",
    "warnings.filterwarnings(\"ignore\")\n",
    "\n",
    "import pickle\n",
    "\n",
    "with open('ZnS_SiO2.p', 'rb') as f:\n",
    "    data = pickle.load(f)"
   ]
  },
  {
   "cell_type": "code",
   "execution_count": 2,
   "id": "110f2616",
   "metadata": {},
   "outputs": [
    {
     "data": {
      "text/plain": [
       "169"
      ]
     },
     "execution_count": 2,
     "metadata": {},
     "output_type": "execute_result"
    }
   ],
   "source": [
    "len(data)"
   ]
  },
  {
   "cell_type": "code",
   "execution_count": 26,
   "id": "61176a95",
   "metadata": {},
   "outputs": [
    {
     "name": "stdout",
     "output_type": "stream",
     "text": [
      "/Users/zhouruixuan0424/Downloads/config.json\r\n"
     ]
    }
   ],
   "source": [
    "!ls /Users/zhouruixuan0424/Downloads/*.json"
   ]
  },
  {
   "cell_type": "code",
   "execution_count": 3,
   "id": "dd5d964c",
   "metadata": {},
   "outputs": [],
   "source": [
    "from itertools import chain\n",
    "import numpy as np\n",
    "\n",
    "def get_data(ids):\n",
    "    structures = list(chain(*[data[i]['structure'] for i in ids]))\n",
    "    energies = list(chain(*[data[i]['energy'] for i in ids]))\n",
    "    forces = list(chain(*[data[i]['force'] for i in ids]))\n",
    "    \n",
    "    # 1 kBa to 0.1 GPa and the sign convention change\n",
    "    stresses = list(chain(*[np.array(data[i]['stress']) * -0.1 for i in ids]))\n",
    "    return structures, energies, forces, stresses\n",
    "\n",
    "mp_ids = list(data.keys())  # here we have 169 materials\n",
    "np.random.seed(42)\n",
    "np.random.shuffle(mp_ids)\n",
    "\n",
    "train_ids = mp_ids[:150]\n",
    "val_ids = mp_ids[150:]\n",
    "\n",
    "train_structures, train_energies, train_forces, train_stresses = get_data(train_ids)\n",
    "val_structures, val_energies, val_forces, val_stresses = get_data(val_ids)"
   ]
  },
  {
   "cell_type": "markdown",
   "id": "fa2684d9",
   "metadata": {},
   "source": [
    "**M3GNet crystal model training**"
   ]
  },
  {
   "cell_type": "code",
   "execution_count": 24,
   "id": "c23b82d1",
   "metadata": {},
   "outputs": [],
   "source": [
    "from m3gnet.models import M3GNet, Potential\n",
    "from m3gnet.trainers import PotentialTrainer\n",
    "import tensorflow as tf\n",
    "\n",
    "potential = Potential(M3GNet(n_blocks=1, is_intensive=False))\n",
    "\n",
    "\n",
    "trainer = PotentialTrainer(potential=potential,\n",
    "                          optimizer=tf.keras.optimizers.Adam(2e-3))"
   ]
  },
  {
   "cell_type": "code",
   "execution_count": null,
   "id": "6c735c6a",
   "metadata": {},
   "outputs": [],
   "source": [
    "import tensorflow as tf\n",
    "\n",
    "hub = tf.keras.losses.Huber(0.1)\n",
    "\n",
    "def loss(x, y):\n",
    "    return 100 * hub(x, y)\n",
    "\n",
    "trainer.train(graphs_or_structures=train_structures,\n",
    "             energies=train_energies,\n",
    "             forces=train_forces,\n",
    "             stresses=train_stresses,\n",
    "             validation_graphs_or_structures=val_structures,\n",
    "             val_energies=val_energies,\n",
    "             val_forces=val_forces,\n",
    "             val_stresses=val_stresses,\n",
    "             batch_size=8,\n",
    "             force_loss_ratio=0.1,\n",
    "             stress_loss_ratio=0.01,\n",
    "             loss= loss,\n",
    "             epochs=10,\n",
    "             fit_per_element_offset=True)"
   ]
  },
  {
   "cell_type": "code",
   "execution_count": null,
   "id": "2f1ebf3b",
   "metadata": {},
   "outputs": [],
   "source": []
  }
 ],
 "metadata": {
  "kernelspec": {
   "display_name": "Python 3 (ipykernel)",
   "language": "python",
   "name": "python3"
  },
  "language_info": {
   "codemirror_mode": {
    "name": "ipython",
    "version": 3
   },
   "file_extension": ".py",
   "mimetype": "text/x-python",
   "name": "python",
   "nbconvert_exporter": "python",
   "pygments_lexer": "ipython3",
   "version": "3.10.6"
  }
 },
 "nbformat": 4,
 "nbformat_minor": 5
}
